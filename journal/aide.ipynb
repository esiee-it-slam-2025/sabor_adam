{
 "cells": [
  {
   "cell_type": "markdown",
   "metadata": {},
   "source": [
    "On imagine un réseau social sur lequel on peut poser soit des **messages**, soit des **photos**."
   ]
  },
  {
   "cell_type": "code",
   "execution_count": null,
   "metadata": {},
   "outputs": [],
   "source": [
    "messages = [\n",
    "    {\n",
    "        \"date\": \"2021-04-06\",\n",
    "        \"auteur\": \"Fabieng\",\n",
    "        \"texte\": \"Il fait trop chaud\"\n",
    "    },\n",
    "    {\n",
    "        \"date\": \"2021-04-07\",\n",
    "        \"auteur\": \"Fabieng\",\n",
    "        \"texte\": \"Il fait trop froid\"\n",
    "    },\n",
    "]\n",
    "\n",
    "photos = [\n",
    "    {\n",
    "        \"date\": \"2021-04-06\",\n",
    "        \"auteur\": \"Fabieng\",\n",
    "        \"image\": \"chat.jpg\"\n",
    "    },\n",
    "    {\n",
    "        \"date\": \"2021-04-07\",\n",
    "        \"auteur\": \"Fabieng\",\n",
    "        \"image\": \"chien.jpg\"\n",
    "    },\n",
    "]\n"
   ]
  },
  {
   "cell_type": "markdown",
   "metadata": {},
   "source": [
    "Tout d'abord, il nous faut modéliser les données sous forme de **classes** qui héritent d'une **classe commune**."
   ]
  },
  {
   "cell_type": "code",
   "execution_count": null,
   "metadata": {},
   "outputs": [],
   "source": [
    "class ElementReseauSocial():\n",
    "    # Variable en commun\n",
    "    # Variable en commun\n",
    "\n",
    "    def __init__(self,): # Il faut accepter deux arguments\n",
    "        # self.??? = ???\n",
    "        # self.??? = ???\n",
    "\n",
    "class Message(ElementReseauSocial):\n",
    "    # Variable propre à un message\n",
    "\n",
    "    def __init__(self,): # Il faut accepter trois arguments (2 variables communes + 1 variable de message)\n",
    "        # self.??? = ???\n",
    "        # self.??? = ???\n",
    "        # self.??? = ???\n",
    "\n",
    "\n",
    "class Photo(ElementReseauSocial):\n",
    "    # Variable propre à une photo\n",
    "\n",
    "    def __init__(self,): # Il faut accepter trois arguments (2 variables communes + 1 variable de photo)\n",
    "        # self.??? = ???\n",
    "        # self.??? = ???\n",
    "        # self.??? = ???"
   ]
  },
  {
   "cell_type": "markdown",
   "metadata": {},
   "source": [
    "Ensuite, nous allons définir une date pour n'afficher que les messages et photos qui correspondent à celle-ci."
   ]
  },
  {
   "cell_type": "code",
   "execution_count": null,
   "metadata": {},
   "outputs": [],
   "source": [
    "date_voulue = \"2021-04-06\""
   ]
  },
  {
   "cell_type": "markdown",
   "metadata": {},
   "source": [
    "Finalement, nous pouvons parcourir le contenu des listes `messages` et `photos`. Chaque élément de ces liste est un dictionnaire contenant des valeurs. Il nous faut donc créer une instance de la classe `Messages` ou `Photos` tout en leur passant une à une les valeurs de ces dictionnaires.\n",
    "\n",
    "Une fois l'instance créée, il faut vérifier si sa date correspond à la variable `date_voulue`.\n",
    "\n",
    "Si c'est le cas, on peut afficher chaque variable de l'instance."
   ]
  },
  {
   "cell_type": "code",
   "execution_count": null,
   "metadata": {},
   "outputs": [],
   "source": [
    "for dictionnaire in messages:\n",
    "    message = Message() # Remplir entre les parenthèses à l'aide de \"dictionnaire\"\n",
    "    if message.???? == date_voulue:\n",
    "        print(\"Message :\")\n",
    "        print(message.????)\n",
    "\n",
    "for dictionnaire in photos:\n",
    "    photo = Photo() # Remplir entre les parenthèses à l'aide de \"dictionnaire\"\n",
    "    if photo.???? == date_voulue:\n",
    "        print(\"Photo :\")\n",
    "        print(photo.????)"
   ]
  },
  {
   "cell_type": "markdown",
   "metadata": {},
   "source": [
    "Pour voir si votre code fonctionne, appuyer sur le bouton **\"Exécuter tout\"** en haut de VS Code."
   ]
  }
 ],
 "metadata": {
  "language_info": {
   "name": "python"
  },
  "orig_nbformat": 4
 },
 "nbformat": 4,
 "nbformat_minor": 2
}
