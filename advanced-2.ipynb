{
 "cells": [
  {
   "cell_type": "markdown",
   "metadata": {},
   "source": [
    "![Header](assets/header_advanced-2.svg)\n",
    "\n",
    "# Advanced ②\n",
    "\n",
    "Nous avons vu suffisamment de notions pour commencer l'usage de la programmation orientée objet dans Python, l'import de modules et l'usage de quelques bibliothèques standard (incluses dans Python).\n",
    "\n",
    "# Notions de ce cours\n",
    "\n",
    "* 🖊️ Les `*args` et `**kwargs`\n",
    "* 🖊️ Le déballage de valeurs\n",
    "* 🖊️ Retourner plusieurs valeurs\n",
    "* 🖊️ Les classes, attributs et méthodes\n",
    "* 🖊️ L'héritage\n",
    "* 🖊️ La capture des exceptions\n",
    "* 🔨 Fonctions built-in - `open()`\n",
    "* 🖊️ Le bloc `with`\n",
    "* 🖊️ L'import de modules\n",
    "* 🧰 Bibliothèque standard - `random`\n",
    "* 🧰 Bibliothèque standard - `argparse`"
   ]
  },
  {
   "cell_type": "markdown",
   "metadata": {},
   "source": [
    "---\n",
    "## 🖊️ Les `*args` et `**kwargs`\n",
    "\n",
    "On a déterminé plusieurs façons d'appeler une fonction qui accepte des arguments : soit en respectant l'ordre des augments définis par la fonction (arguments positionnels), soit à l'aide de mots-clés pour éviter d'avoir à respecter cet ordre.\n",
    "\n",
    "Cependant, comment faire si l'on veut que notre fonction accepte un nombre infini d'arguments ? On peut par exemple appeler une fonction en lui passant tout simplement une **liste**.\n",
    "\n",
    "L'exemple ci-dessous est une fonction qui sert simplement à renvoyer le total des éléments reçus dans son unique argument `nombres`."
   ]
  },
  {
   "cell_type": "code",
   "execution_count": 1,
   "metadata": {},
   "outputs": [
    {
     "name": "stdout",
     "output_type": "stream",
     "text": [
      "4 + 2 =\n",
      "6\n",
      "10 + 11 + 12 =\n",
      "33\n"
     ]
    }
   ],
   "source": [
    "# L'argument \"nombres\" reçu est une liste\n",
    "def somme(nombres):\n",
    "    total = 0\n",
    "    for element in nombres:\n",
    "        total = total + element\n",
    "    print(total)\n",
    "\n",
    "# Appel de la fonction avec une liste contenant 2 éléments\n",
    "print(\"4 + 2 =\")\n",
    "somme([4, 2])\n",
    "\n",
    "# Appel de la fonction avec une liste contenant 3 éléments\n",
    "print(\"10 + 11 + 12 =\")\n",
    "somme([10, 11, 12])"
   ]
  },
  {
   "cell_type": "markdown",
   "metadata": {},
   "source": [
    "Passer une liste d'éléments est pratique, mais il arrive que l'on veuille passer des données un peu plus précises. Pour cela, on peut par exemple utiliser un **dictionnaire** qui permet de relier des **valeurs** à des **clés**.\n",
    "\n",
    "L'exemple suivant permet de commander une pizza en précisant des **ingrédients** ainsi que le **poids** pour chacun d'entre eux. La fonction peut toujours recevoir un nombre infini d'éléments, mais avec plus de détails pour chaque élément."
   ]
  },
  {
   "cell_type": "code",
   "execution_count": 2,
   "metadata": {},
   "outputs": [
    {
     "name": "stdout",
     "output_type": "stream",
     "text": [
      "Un client vient de commander une pizza.\n",
      "sauce tomate : 100 grammes\n",
      "fromage : 150 grammes\n"
     ]
    }
   ],
   "source": [
    "# L'argument \"aliments\" reçu est un dictionnaire\n",
    "def pizza(aliments):\n",
    "    print(\"Un client vient de commander une pizza.\")\n",
    "    for key, value in aliments.items():\n",
    "        print(f\"{key} : {value} grammes\")\n",
    "\n",
    "pizza({\"sauce tomate\": 100, \"fromage\": 150})"
   ]
  },
  {
   "cell_type": "markdown",
   "metadata": {},
   "source": [
    "En soi, les exemples précédents fonctionnent très bien. Mais l'inconvénient est de devoir \"encapsuler\" nos valeurs à l'aide de listes ou de dictionnaires, et ce n'est pas très pratique à écrire non plus.\n",
    "\n",
    "La solution proposée par Python s'appelle l'**emballage** (packing). Concrètement, cela nous permet de d'avoir des fonctions capables de recevoir un nombre infini d'arguments à la suite, qu'ils soient passés avec des mots-clés ou non.\n",
    "\n",
    "Pour cela, il faut faire quelque chose lorsque l'on écrit la définition de notre fonction. Là où l'on écrit les arguments attendus par la fonction, entre parenthèses, on va accepter un seul argument du nom de notre choix (généralement `args`) mais en écrivant une étoile `*` juste devant son nom. C'est l'étoile qui indiquera à Python que l'on souhaite que tous les **arguments positionnels** reçus soient **emballés** dans une liste unique."
   ]
  },
  {
   "cell_type": "code",
   "execution_count": 3,
   "metadata": {},
   "outputs": [
    {
     "name": "stdout",
     "output_type": "stream",
     "text": [
      "Ce train desservira :\n",
      "Argenteuil\n",
      "Val d'Argenteuil\n",
      "Paris Saint-Lazare\n"
     ]
    }
   ],
   "source": [
    "# La fonction accepte un nombre infini d'arguments positionnels qui seront emballés dans l'argument \"args\"\n",
    "def trajet(*args): # *args = [\"Argenteuil\", \"Val d'Argenteuil\", \"Paris Saint-Lazare\"]\n",
    "    print(\"Ce train desservira :\")\n",
    "    for station in args:\n",
    "        print(station)\n",
    "\n",
    "trajet(\"Argenteuil\", \"Val d'Argenteuil\", \"Paris Saint-Lazare\")"
   ]
  },
  {
   "cell_type": "markdown",
   "metadata": {},
   "source": [
    "On peut faire la même chose lorsque l'on désire accepter n'importe quel argument passé par mot-clé.\n",
    "\n",
    "Pour cela, on va écrire deux étoiles `**` devant notre unique argument `kwargs` pour que Python emballe tous les arguments à mot-clé dans un dictionnaire. Ce nom, utilisé par convention, fait référence à \"**K**ey**W**ord **ARG**ument**S**\"."
   ]
  },
  {
   "cell_type": "code",
   "execution_count": 4,
   "metadata": {},
   "outputs": [
    {
     "name": "stdout",
     "output_type": "stream",
     "text": [
      "Création d'un nouveau personnage.\n",
      "age : 19\n",
      "nom : Shinji\n"
     ]
    }
   ],
   "source": [
    "# La fonction accepte un nombre infini d'arguments à mot-clé qui seront emballés dans l'argument \"kwargs\"\n",
    "def personnage(**kwargs): # **kwargs = {\"age\": 19, \"nom\": \"Shinji\"}\n",
    "    print(\"Création d'un nouveau personnage.\")\n",
    "    for key, value in kwargs.items():\n",
    "        print(f\"{key} : {value}\")\n",
    "\n",
    "personnage(age=19, nom=\"Shinji\")"
   ]
  },
  {
   "cell_type": "markdown",
   "metadata": {},
   "source": [
    "Bien que cette notion puisse être un peu complexe, il est fort probable que vous rencontriez des fonctions qui s'appellent de cette façon : vous savez désormais ce qui se trame derrière.\n",
    "\n",
    "Voilà en résumé ce que permet l'usage de `*args` et `**kwargs` en reprenant les premiers examples :\n",
    "\n",
    "![args et kwargs](assets/args_kwargs.svg)"
   ]
  },
  {
   "cell_type": "markdown",
   "metadata": {},
   "source": [
    "---\n",
    "## 🖊️ Le déballage de valeurs\n",
    "\n",
    "Voyons une autre syntaxe optionnelle qui peut nous faciliter le développement au quotidien.\n",
    "\n",
    "Partons d'un simple cas d'usage où l'on souhaite attributer plusieurs valeurs d'une liste à plusieurs variables, afin de comprendre clairement ce que l'on fait. En effet, utiliser une variable `age` sera toujours plus clair que d'utiliser `utilisateur[2]` tout au long de notre code."
   ]
  },
  {
   "cell_type": "code",
   "execution_count": 5,
   "metadata": {},
   "outputs": [
    {
     "name": "stdout",
     "output_type": "stream",
     "text": [
      "Bonjour NOM Prenom, vous avez 21 ans.\n"
     ]
    }
   ],
   "source": [
    "utilisateur = [\"Prenom\", \"NOM\", 21]\n",
    "prenom = utilisateur[0]\n",
    "nom = utilisateur[1]\n",
    "age = utilisateur[2]\n",
    "print(f\"Bonjour {nom} {prenom}, vous avez {age} ans.\")"
   ]
  },
  {
   "cell_type": "markdown",
   "metadata": {},
   "source": [
    "À l'inverse de l'emballage (packing), Python peut également faire ce qu'on appelle un **déballage** (unpacking) de variables afin d'extraire d'un seul coup plusieurs valeurs à partir d'une liste, d'un tuple...\n",
    "\n",
    "La syntaxe ressemble au simple fait d'attribuer une **valeur** à une **variable**, mais cette fois il faut écrire à gauche de l'égal `=` autant de noms de variables qu'il y a de valeurs à déballer.\n",
    "\n",
    "Ci-dessous, on veut déballer les valeurs de la liste `utilisateur` qui possède 3 valeurs, on écrira donc 3 noms de variables. Le 1er élément de la liste sera alors attribué dans la variable `prenom`, le 2e élément dans la variable `nom`, et le 3e dans la variable `age`."
   ]
  },
  {
   "cell_type": "code",
   "execution_count": 6,
   "metadata": {},
   "outputs": [
    {
     "name": "stdout",
     "output_type": "stream",
     "text": [
      "Bonjour NOM Prenom, vous avez 21 ans.\n"
     ]
    }
   ],
   "source": [
    "utilisateur = [\"Prenom\", \"NOM\", 21]\n",
    "prenom, nom, age = utilisateur # Déballage d'une liste de 3 éléments dans 3 variables différentes\n",
    "print(f\"Bonjour {nom} {prenom}, vous avez {age} ans.\")"
   ]
  },
  {
   "cell_type": "markdown",
   "metadata": {},
   "source": [
    "Déballer de la même façon un dictionnaire permet de récupérer les clés de ce dictionnaire.\n",
    "\n",
    "Pour obtenir les valeurs d'un dictionnaire on peut utiliser la fonction `values()` et pour l'objet entier `items()`\n",
    "\n",
    "⚠️ **Attention** : Il faut autant de variable qu'il y a d'élément dans la liste ou le dictionnaire sinon le déballage ne fonctionne pas et on obtient une erreur "
   ]
  },
  {
   "cell_type": "code",
   "execution_count": 11,
   "metadata": {},
   "outputs": [
    {
     "name": "stdout",
     "output_type": "stream",
     "text": [
      "Vous avez pris une pizza Sauce tomate Mozarella avec des Champignon\n",
      "Quantités : 100g de frommage, 150g de sauce, 75g de topping\n",
      "('Mozarella', 100)\n",
      "('Sauce tomate', 150)\n",
      "('Champignon', 75)\n"
     ]
    }
   ],
   "source": [
    "pizza = {\"Mozarella\": 100, \"Sauce tomate\": 150, \"Champignon\": 75} # Avec un dictionnaire\n",
    "\n",
    "# Déballe les clés du dictionnaire pizza\n",
    "fromage, sauce, topping = pizza \n",
    "print(f\"Vous avez pris une pizza {sauce} {fromage} avec des {topping}\")\n",
    "\n",
    "# Déballe les valeurs du dictionnaire pizza\n",
    "qteFromage, qteSauce, qteTopping = pizza.values()\n",
    "print(f\"Quantités : {qteFromage}g de frommage, {qteSauce}g de sauce, {qteTopping}g de topping\")\n",
    "\n",
    "# Déballe les items du dictionnaire pizza\n",
    "ingredient1, ingredient2, ingredient3 = pizza.items()\n",
    "print(ingredient1)\n",
    "print(ingredient2)\n",
    "print(ingredient3)"
   ]
  },
  {
   "cell_type": "markdown",
   "metadata": {},
   "source": [
    "C'est tout de même plus rapide et pratique que d'attribuer une à une, chaque valeur de la liste aux variables que l'on souhaite. Il y a aussi d'autres façons de déballer des valeurs, mais on verra ça plus tard.\n",
    "\n",
    "<details>\n",
    "  <summary>【💡 Spoiler】</summary>\n",
    "  On utilise une syntaxe différente pour déballer quelque chose au sein de l'appel d'une fonction.\n",
    "</details>"
   ]
  },
  {
   "cell_type": "markdown",
   "metadata": {},
   "source": [
    "---\n",
    "## 🖊️ Retourner plusieurs valeurs\n",
    "\n",
    "Grâce à la technique de déballage des valeurs, on peut voir quelque chose de très utile : faire en sorte qu'une fonction renvoie plusieurs valeurs à la fois. Même si, techniquement, elle renverra en réalité un tuple, que l'on déballera ensuite vers plusieurs variables."
   ]
  },
  {
   "cell_type": "code",
   "execution_count": 7,
   "metadata": {},
   "outputs": [
    {
     "name": "stdout",
     "output_type": "stream",
     "text": [
      "Il faut cuire 60 sec à 900w.\n"
     ]
    }
   ],
   "source": [
    "def cuisson_microondes():\n",
    "    # En réalité cela revient à renvoyer un tuple, mais sans avoir à écrire les parenthèses () autour\n",
    "    return 60, \"900w\" \n",
    "\n",
    "secondes, puissance = cuisson_microondes() # On déballe le tuple retourné par la fonction\n",
    "\n",
    "print(f\"Il faut cuire {secondes} sec à {puissance}.\")"
   ]
  },
  {
   "cell_type": "markdown",
   "metadata": {},
   "source": [
    "---\n",
    "## 🖊️ Les classes, attributs et méthodes\n",
    "\n",
    "Un autre paradigme devenu omniprésent dans la plupart des langages (pas tous !) est celui de la **programmation orientée objet** (POO).\n",
    "\n",
    "Dans les exercices simples réalisés jusqu'ici, nous avions écrit dans un seul fichier de nombreuses variables et fonctions qui concernent et s'appliquent à différentes choses, ce qui est loin de l'idéal que l'on souhaite en programmation, où l'on sépare et range clairement notre code.\n",
    "\n",
    "La POO est un outil majeur pour nous aider à atteindre ce but. Elle permet de _regrouper_ tout ce qui _caractérise_ et peut _manipuler_ quelque chose dans ce qu'on appelle des _objets_. On a donc une _abstraction_ du comportement de ces objets, car tout qui les concerne est censé se dérouler en leur sein.\n",
    "\n",
    "L'objet est une notion difficile à appréhender lorsque l'on commence la programmation, on commence donc souvent par faire une comparaison avec le réel. Prenons l'exemple d'une voiture : \n",
    "\n",
    "* C'est un _objet_, construit en usine d'après un _plan_\n",
    "* Elle possède des _caractéristiques_ : taille, couleur, moteur, compte-tours...\n",
    "* On peut intéragir en y faisant des _actions_ : ouvrir la portière, démarrer le moteur...\n",
    "\n",
    "En termes de POO donc, on peut décrire un d'objet à l'aide d'une _classe_. Dans cette dernière, vous pourrez y définir des attributs (variables) ainsi que des _méthodes_ (fonctions). Mais cette classe n'est en soi qu'un patron de construction : pour vous en servir, il faudra en créer un exemplaire, on dit alors que l'on va créer une _instance_ de cette classe. C'est en créant cette instance que vous pouvez éventuellement en préciser les caractéristiques souhaitées.\n",
    "\n",
    "![Classe](assets/class.svg)\n",
    "\n",
    "Lorsque vous démarrez la voiture, vous tournez juste une clé, mais cette dernière réalisera à ce moment des opérations complexes dont vous n'avez pas à vous en faire : c'est un peu ça, l'abstraction. Aussi, une usine de voitures crée plusieurs exemplaires de voitures basées sur le même modèle, mais dont les _caractéristiques_ changent selon les commandes des clients : un peu comme on instancie une classe.\n",
    "\n",
    "Toutes ces notions vous paraîtront plus clair à force de les voir appliquées dans le code, donc allons-y !"
   ]
  },
  {
   "cell_type": "code",
   "execution_count": 12,
   "metadata": {},
   "outputs": [
    {
     "name": "stdout",
     "output_type": "stream",
     "text": [
      "JR Kyushu\n"
     ]
    }
   ],
   "source": [
    "# Définit la classe Train\n",
    "class Train():\n",
    "    # Attribut compagnie par defaut\n",
    "    compagnie = \"JR Kyushu\"\n",
    "\n",
    "# Création d'une instance de la classe Train\n",
    "prochain_train = Train()\n",
    "\n",
    "# La variable prochain_train contient une instance de la classe Train\n",
    "print(prochain_train.compagnie) # Affiche JR Kyushu"
   ]
  },
  {
   "cell_type": "markdown",
   "metadata": {},
   "source": [
    "La définition d'une classe se fait à l'aide du mot clé `class` suivi de son nom, au singulier, que l'on écrit par convention en \"CamelCase\", c'est à dire avec une majuscule à chaque mot. Tout ce qui se trouve dans la classe sera alors limité à son scope, comme une fonction (cf chapitre précédent).\n",
    "\n",
    "Si l'on souhaite que chaque instance de la classe ait un **attribut** (variable) avec une valeur par défaut, on utilise donc un **attribut de classe**, défini ici à la deuxième ligne.\n",
    "\n",
    "La dernière ligne va donc créer une instance de la classe (= **instancier la classe**), en l'appellant par son nom comme si c'était une fonction.\n",
    "\n",
    "Pour l'instant, on ne peut pas faire grand chose avec cette classe. Essayons d'y écrire une méthode (fonction) pour que l'on puisse l'appeler à l'avenir."
   ]
  },
  {
   "cell_type": "code",
   "execution_count": 9,
   "metadata": {},
   "outputs": [
    {
     "name": "stdout",
     "output_type": "stream",
     "text": [
      "Je suis un train de la compagnie JR Kyushu.\n"
     ]
    }
   ],
   "source": [
    "class Train():\n",
    "    compagnie = \"JR Kyushu\"\n",
    "\n",
    "    # Définit la méthode description() qui renvoi une string\n",
    "    def description(self):\n",
    "        # self correspond à l'instance qui appelera la méthode description \n",
    "        return f\"Je suis un train de la compagnie {self.compagnie}.\"\n",
    "\n",
    "prochain_train = Train()\n",
    "# L'instance contenu dans prochain_train appelle la méthode description\n",
    "print(prochain_train.description())"
   ]
  },
  {
   "cell_type": "markdown",
   "metadata": {},
   "source": [
    "Nous arrivons là à une particularité de Python. Pour accéder au scope (attributs, méthodes) de la classe, chaque méthode doit accepter l'argument spécial `self` qui représente l'instance de la classe en cours. Ce n'est donc pas un argument à passer lors de l'appel de la fonction (vous le voyez bien sur la dernière ligne).\n",
    "\n",
    "Grâce à ce `self`, on peut accéder aux **attributs** et aux **méthodes** de l'instance. Ici, on accède à la valeur de l'attribut `compagnie` en écrivant `self.compagnie`.\n",
    "\n",
    "Revenons sur l'instanciation de la classe, qui se fait exactement comme l'appel d'une fonction... et bien justement, Python va en réalité appeler à ce moment une fonction de la classe : le _constructeur_.\n",
    "\n",
    "Pour ajouter un _constructeur_ à notre classe, il suffit de définir la méthode \"magique\" (car son nom est entouré de `__`) nommée `__init__`. Tous les arguments que l'on voudra accepter dans cette fonction devront alors être donnés lors de l'instanciation de la classe. Ici aussi, on retrouve l'argument spécial `self`."
   ]
  },
  {
   "cell_type": "code",
   "execution_count": 10,
   "metadata": {},
   "outputs": [
    {
     "name": "stdout",
     "output_type": "stream",
     "text": [
      "Le prochain train, de la compagnie JR West, est en direction de Kobe.\n"
     ]
    }
   ],
   "source": [
    "class Train():\n",
    "    compagnie = \"JR West\"\n",
    "    destination = \"\" # destination est vide par defaut\n",
    "\n",
    "    def __init__(self, destination):\n",
    "        # La destination de l'instance devient celle passé en argument lors de l'initialisation\n",
    "        self.destination = destination\n",
    "\n",
    "# On créer l'instance avec l'argument \"Kobe\"\n",
    "prochain_train = Train(\"Kobe\")\n",
    "\n",
    "print(f\"Le prochain train, de la compagnie {prochain_train.compagnie}, est en direction de {prochain_train.destination}.\")\n",
    "#Le prochain train, de la compagnie JR West, est en direction de Kobe."
   ]
  },
  {
   "cell_type": "markdown",
   "metadata": {},
   "source": [
    "Cette fois, au lieu d'appeler une méthode, on accède directement à l'attribut de l'instance (`prochain_train.destination`) pour lire sa valeur. \n",
    "\n",
    "La fonction `__init__` étant une fonction comme une autre, on peut définir des **arguments à valeur par défaut** dans le constructeur, et on peut très bien instancier nos classes avec des **arguments à mot-clé**."
   ]
  },
  {
   "cell_type": "code",
   "execution_count": 11,
   "metadata": {},
   "outputs": [
    {
     "name": "stdout",
     "output_type": "stream",
     "text": [
      "Le prochain train est un Local en direction de Kokura.\n",
      "Le suivant est un Limited Express allant vers Nagasaki.\n"
     ]
    }
   ],
   "source": [
    "class Train():\n",
    "    def __init__(self, destination, service=\"Local\"):\n",
    "        self.destination = destination\n",
    "        self.service = service\n",
    "\n",
    "premier_train = Train(\"Kokura\")\n",
    "second_train = Train(service=\"Limited Express\", destination=\"Nagasaki\")\n",
    "\n",
    "print(f\"Le prochain train est un {premier_train.service} en direction de {premier_train.destination}.\")\n",
    "print(f\"Le suivant est un {second_train.service} allant vers {second_train.destination}.\")"
   ]
  },
  {
   "cell_type": "markdown",
   "metadata": {},
   "source": [
    "Si on le souhaite, on peut également directement changer l'attribut d'une instance, mais le principe de la POO est de laisser les classes fournir des méthodes pour influencer leurs caractéristiques ou leur comportement - il faut donc vérifier au préalable si c'est gênant ou non.\n",
    "\n",
    "Voyons l'intérêt d'avoir des méthodes qui s'occupent de changer les attributs d'une instance :"
   ]
  },
  {
   "cell_type": "code",
   "execution_count": 12,
   "metadata": {},
   "outputs": [
    {
     "name": "stdout",
     "output_type": "stream",
     "text": [
      "Attention, le train à destination de Kobe ira désormais vers Kyoto.\n"
     ]
    }
   ],
   "source": [
    "class Train():\n",
    "    def __init__(self, destination):\n",
    "        self.destination = destination\n",
    "\n",
    "    def changer_destination(self, remplacement):\n",
    "        print(f\"Attention, le train à destination de {self.destination} ira désormais vers {remplacement}.\")\n",
    "        self.destination = remplacement\n",
    "\n",
    "prochain_train = Train(\"Kobe\")\n",
    "prochain_train.changer_destination(\"Kyoto\")"
   ]
  },
  {
   "cell_type": "markdown",
   "metadata": {},
   "source": [
    "On a pu voir qu'avant d'écraser l'ancienne valeur, la méthode a jugé bon d'informer du changement de direction : c'est un exemple parmi d'autres de l'intérêt de passer par des méthodes afin d'influencer des instances."
   ]
  },
  {
   "cell_type": "markdown",
   "metadata": {},
   "source": [
    "La méthode d'une classe peut bien sûr également renvoyer une ou plusieurs valeurs.\n",
    "\n",
    "Pour rappel, la classe ainsi que ses méthodes créeront chacun des scopes locaux, il faudra donc s'en souvenir lors de l'usage des attributs de la classe.\n",
    "\n",
    "![Scope classe](assets/scope_class.svg)"
   ]
  },
  {
   "cell_type": "code",
   "execution_count": 13,
   "metadata": {},
   "outputs": [
    {
     "name": "stdout",
     "output_type": "stream",
     "text": [
      "Merci d'avoir loué une trottinette Buzz. Elle a 25 kilomètres au compteur.\n",
      "La trottinette a désormais parcourue 33 kilomètres.\n"
     ]
    }
   ],
   "source": [
    "class Trottinette():\n",
    "    kilometrage = 0\n",
    "    def __init__(self, kilometrage):\n",
    "        self.kilometrage = kilometrage\n",
    "        print(f\"Merci d'avoir loué une trottinette Buzz. Elle a {self.kilometrage} kilomètres au compteur.\")\n",
    "\n",
    "    def ajouter_kilometrage(self, km):\n",
    "        self.kilometrage += km\n",
    "        return self.kilometrage\n",
    "\n",
    "trott_location = Trottinette(25)\n",
    "km = trott_location.ajouter_kilometrage(8)\n",
    "print(f\"La trottinette a désormais parcourue {km} kilomètres.\")"
   ]
  },
  {
   "cell_type": "markdown",
   "metadata": {},
   "source": [
    "---\n",
    "## 🖊️ L'héritage\n",
    "\n",
    "Une autre volonté du développement est de réutiliser le plus de code possible, et la POO encourage cela à travers ce qu'on appelle l'héritage : c'est le fait qu'une classe _hérite_ de tous les attributs et méthodes d'une autre classe, pour y rajouter ensuite ce qui est spécifique à son propre cas (voir remplacer des choses héritées si besoin).\n",
    "\n",
    "C'est un peu comme le fait qu'une voiture hybride hérite des caractéritiques d'une voiture, tout en étant sensiblement différent sur certains points.\n",
    "\n",
    "Pour faire hériter une classe d'une autre classe, on écrit leur nom dans les parenthèses qui suivent la définition de la classe."
   ]
  },
  {
   "cell_type": "code",
   "execution_count": 14,
   "metadata": {},
   "outputs": [
    {
     "name": "stdout",
     "output_type": "stream",
     "text": [
      "Il reste 20 litres d'essence.\n",
      "Il reste 20 litres d'essence.\n",
      "Il reste 80% d'électricité.\n"
     ]
    }
   ],
   "source": [
    "class Voiture():\n",
    "    essence = 20\n",
    "    def niveau_reservoir(self):\n",
    "        return f\"Il reste {self.essence} litres d'essence.\"\n",
    "\n",
    "# La classe VoitureHybride hérite de la classe Voiture\n",
    "class VoitureHybride(Voiture):\n",
    "    # Attribut supplémentaire pour VoitureHybride\n",
    "    electricite = 80 \n",
    "    \n",
    "    # Méthode supplémentaire pour VoitureHybride\n",
    "    def niveau_batterie(self):\n",
    "        return f\"Il reste {self.electricite}% d'électricité.\"\n",
    "\n",
    "yaris = Voiture()\n",
    "print(yaris.niveau_reservoir())\n",
    "\n",
    "auris = VoitureHybride()\n",
    "print(auris.niveau_reservoir())\n",
    "print(auris.niveau_batterie())"
   ]
  },
  {
   "cell_type": "markdown",
   "metadata": {},
   "source": [
    "Voilà ce que devient l'intérieur de notre classe **VoitureHybride** après avoir hérité des **attributs** et des **méthodes** de la classe **Voiture** :\n",
    "\n",
    "![Héritage](assets/heritage.svg)\n",
    "\n",
    "On commence à voir le premier intérêt de l'héritage, qui est entre autres d'éviter d'avoir à recopier du code existant.\n",
    "\n",
    "## Redéfinition (override)\n",
    "\n",
    "Comme dit plus haut, on peut si besoin remplacer des attributs ou des méthodes existantes, tout simplement en les écrivant à nouveau dans la classe \"enfant\" qui hérite d'une autre classe : on parle alors de **redéfinition** (override).\n",
    "\n",
    "Dans les méthodes de notre classe \"enfant\", on peut donc utiliser `super()` pour accéder aux attributs ou méthodes de la classe dont on hérite. \n",
    "\n",
    "Voyons désormais un autre point de la POO : le **polymorphisme**."
   ]
  },
  {
   "cell_type": "code",
   "execution_count": 15,
   "metadata": {},
   "outputs": [
    {
     "name": "stdout",
     "output_type": "stream",
     "text": [
      "Il reste 20 litres d'essence.\n",
      "Il reste 20 litres d'essence. Et il reste 80% d'électricité.\n"
     ]
    }
   ],
   "source": [
    "class Voiture():\n",
    "    reservoir = 20\n",
    "    def niveaux(self):\n",
    "        return f\"Il reste {self.reservoir} litres d'essence.\"\n",
    "\n",
    "class VoitureHybride(Voiture):\n",
    "    batterie = 80\n",
    "    def niveaux(self):\n",
    "        # Appel de la fonction niveaux() de la classe Voiture\n",
    "        resultat_voiture = super().niveaux()\n",
    "        return resultat_voiture + f\" Et il reste {self.batterie}% d'électricité.\"\n",
    "\n",
    "yaris = Voiture()\n",
    "print(yaris.niveaux()) # Il reste 20 litres d'essence.\n",
    "\n",
    "auris = VoitureHybride()\n",
    "print(auris.niveaux()) # Il reste 20 litres d'essence. Et il reste 80% d'électricité."
   ]
  },
  {
   "cell_type": "markdown",
   "metadata": {},
   "source": [
    "Le but, lorsque l'on demande les niveaux de la voiture hybride, est de recevoir ce qu'aurait renvoyé la classe `Voiture` tout en ayant un supplément spécifique à `VoitureHybride`. Au sein d'une classe \"enfant\", on peut donc récupérer le résultat renvoyé par une **méthode** de la classe \"parent\" en utilisant `super()`.\n",
    "\n",
    "Écrire `super().niveaux()` va donc appeler la méthode `niveaux()` de la classe `Voiture` afin de récupérer sa valeur, avant d'y rajouter ce qui est spécifique aux voitures hybrides.\n",
    "\n",
    "C'est là l'autre intérêt de l'héritage : bien qu'étant des instances de classes différentes, on peut toutes les considérer comme des `Voiture` en appelant de toute façon la même méthode `niveaux()` sans se préoccuper de si ce sont des voitures hybrides ou non. Ainsi, notre code sera déjà prêt aux nouveaux types de voiture qui hériteront de la même classe `Voiture`.\n",
    "\n",
    "## Redéfinition du constructeur\n",
    "\n",
    "Dans une classe \"enfant\", on peut également **redéfinir (overrider) le constructeur** si le constructeur de la classe \"parent\" ne nous plaît pas, ou bien si l'on veut ajouter ou modifier quelque chose avant de l'appeler, etc.\n",
    "\n",
    "Pour continuer à appeler le constructeur original de la classe \"parente\", on écrit `super().__init__()`. Il est possible d'y passer des arguments pour que la classe \"parente\" croit recevoir ces arguments lors de son instanciation.\n",
    "\n",
    "Prenons ci-dessous l'exemple d'une classe `Train` nécessitant une **destination** et un **service** lors de son instanciation. La classe \"enfant\" `Shinkansen` va appeler-lui même le constructeur de la classe `Train` en transmettant la destination mais en précisant lui-même le service, qui est forcément égal à \"Shinkansen\"."
   ]
  },
  {
   "cell_type": "code",
   "execution_count": 16,
   "metadata": {},
   "outputs": [
    {
     "name": "stdout",
     "output_type": "stream",
     "text": [
      "Ceci est un train Local en direction de Ikebukuro.\n",
      "Il ira au maximum à 130 km/h.\n",
      "Ceci est un train Shinkansen en direction de Shin-Osaka.\n",
      "Il ira au maximum à 340 km/h.\n"
     ]
    }
   ],
   "source": [
    "# Classe \"parente\"\n",
    "class Train():\n",
    "    vitesse_max = 130\n",
    "\n",
    "    # Le constructeur accepte deux arguments\n",
    "    def __init__(self, destination, service):\n",
    "        self.destination = destination\n",
    "        self.service = service\n",
    "\n",
    "    def afficher_infos(self):\n",
    "        print(f\"Ceci est un train {self.service} en direction de {self.destination}.\")\n",
    "        print(f\"Il ira au maximum à {self.vitesse_max} km/h.\")\n",
    "\n",
    "yamanote = Train(\"Ikebukuro\", \"Local\")\n",
    "yamanote.afficher_infos()\n",
    "\n",
    "# Classe \"enfant\" héritant de Train\n",
    "class Shinkansen(Train):\n",
    "    vitesse_max = 340\n",
    "\n",
    "    def __init__(self, destination):\n",
    "        # On transmet la destination reçue comme 1er argument au constructeur\n",
    "        # de la classe Train, mais on donne soi-même le service\n",
    "        super().__init__(destination, \"Shinkansen\")\n",
    "\n",
    "nozomi = Shinkansen(\"Shin-Osaka\")\n",
    "nozomi.afficher_infos()"
   ]
  },
  {
   "cell_type": "markdown",
   "metadata": {},
   "source": [
    "Vu qu'il n'y a pas de typage fort en Python, on peut avoir besoin de vérifier manuellement si un objet est une instance d'une classe ou bien d'une autre.\n",
    "\n",
    "Pour cela, on utilise la fonction incluse `isinstance()` qui accepte comme 1er argument l'objet contenant l'instance à tester, puis comme 2nd argument la classe (= son nom exact en respectant la casse)."
   ]
  },
  {
   "cell_type": "code",
   "execution_count": 2,
   "metadata": {},
   "outputs": [
    {
     "name": "stdout",
     "output_type": "stream",
     "text": [
      "True\n",
      "False\n",
      "True\n",
      "True\n"
     ]
    }
   ],
   "source": [
    "class Voiture():\n",
    "    essence = 20\n",
    "\n",
    "class VoitureHybride(Voiture):\n",
    "    electricite = 80\n",
    "\n",
    "yaris = Voiture()\n",
    "auris = VoitureHybride()\n",
    "\n",
    "# La Yaris n'est pas une VoitureHybride\n",
    "print(isinstance(auris, Voiture)) # True\n",
    "print(isinstance(yaris, VoitureHybride)) # False\n",
    "\n",
    "# Mais la Auris est bien une Voiture car c'est la classe parente de VoitureHybride\n",
    "print(isinstance(auris, Voiture)) # True\n",
    "print(isinstance(auris, VoitureHybride)) # True"
   ]
  },
  {
   "cell_type": "markdown",
   "metadata": {},
   "source": [
    "---\n",
    "## 🖊️ La capture des exceptions\n",
    "\n",
    "Lors de la réalisation des précédents exercices, vous avez probablement déjà rencontré des erreurs. En Python, les erreurs s'appellent techniquement des **exceptions**, et elles peuvent survenir soit à cause d'une mauvaise écriture de votre code (que vous pourrez alors corriger), soit parce qu'un cas imprévu est arrivé lors de l'exécution du code et qu'il faudrait justement le prévoir à l'avance. Dans ce dernier cas, on dit que l'on va **capturer** une exception.\n",
    "\n",
    "Voyons tout d'abord ce qu'il se passe lorsqu'un code Python vient à générer une exception à cause d'une erreur, avec l'exemple suivant où l'on va tenter de diviser un nombre par zéro."
   ]
  },
  {
   "cell_type": "code",
   "execution_count": 18,
   "metadata": {},
   "outputs": [
    {
     "ename": "ZeroDivisionError",
     "evalue": "division by zero",
     "output_type": "error",
     "traceback": [
      "\u001b[1;31m---------------------------------------------------------------------------\u001b[0m",
      "\u001b[1;31mZeroDivisionError\u001b[0m                         Traceback (most recent call last)",
      "\u001b[1;32mm:\\code\\_esiee2023\\python-course\\cours\\advanced-2.ipynb Cell 40'\u001b[0m in \u001b[0;36m<cell line: 5>\u001b[1;34m()\u001b[0m\n\u001b[0;32m      <a href='vscode-notebook-cell:/m%3A/code/_esiee2023/python-course/cours/advanced-2.ipynb#ch0000039?line=1'>2</a>\u001b[0m resultat \u001b[39m=\u001b[39m \u001b[39mNone\u001b[39;00m\n\u001b[0;32m      <a href='vscode-notebook-cell:/m%3A/code/_esiee2023/python-course/cours/advanced-2.ipynb#ch0000039?line=3'>4</a>\u001b[0m \u001b[39m# On essaye de réalier une division par zéro\u001b[39;00m\n\u001b[1;32m----> <a href='vscode-notebook-cell:/m%3A/code/_esiee2023/python-course/cours/advanced-2.ipynb#ch0000039?line=4'>5</a>\u001b[0m resultat \u001b[39m=\u001b[39m \u001b[39m10\u001b[39;49m \u001b[39m/\u001b[39;49m division\n\u001b[0;32m      <a href='vscode-notebook-cell:/m%3A/code/_esiee2023/python-course/cours/advanced-2.ipynb#ch0000039?line=5'>6</a>\u001b[0m \u001b[39mprint\u001b[39m(\u001b[39m\"\u001b[39m\u001b[39mCalcul terminé.\u001b[39m\u001b[39m\"\u001b[39m)\n",
      "\u001b[1;31mZeroDivisionError\u001b[0m: division by zero"
     ]
    }
   ],
   "source": [
    "division = 0\n",
    "resultat = None\n",
    "\n",
    "# On essaye de réalier une division par zéro\n",
    "resultat = 10 / division\n",
    "print(\"Calcul terminé.\")"
   ]
  },
  {
   "cell_type": "markdown",
   "metadata": {},
   "source": [
    "La présence d'un **traceback** montrant l'endroit du code où s'est déroulé l'erreur atteste bien que notre script Python s'est arrêté soudainement. La dernière ligne nous dit que l'exception `ZeroDivisionError` a été levée, et qu'elle précise comme message : \"division by zero\".\n",
    "\n",
    "Afin d'éviter l'arrêt soudain du script, on va utiliser la structure `try/except/finally`. L'exemple ci-dessous va simplement capturer l'exception qui est levée par Python lorsque l'on divise par zéro. Les exception étant des classes, on va donc techniquement capturer la **classe** `ZeroDivisionError`."
   ]
  },
  {
   "cell_type": "code",
   "execution_count": null,
   "metadata": {},
   "outputs": [
    {
     "name": "stdout",
     "output_type": "stream",
     "text": [
      "Il y a eu une exception : division by zero\n",
      "Calcul terminé.\n"
     ]
    }
   ],
   "source": [
    "division = 0\n",
    "resultat = None\n",
    "\n",
    "try:\n",
    "    # On essaye de réalier une division par zéro à l'intérieur du \"try\"\n",
    "    resultat = 10 / division\n",
    "except ZeroDivisionError as err:\n",
    "    print(f\"Il y a eu une exception : {err}\")\n",
    "finally:\n",
    "    print(\"Calcul terminé.\")"
   ]
  },
  {
   "cell_type": "markdown",
   "metadata": {},
   "source": [
    "Cette fois-ci, le script ne s'est pas arrêté subitement.\n",
    "\n",
    "Le contenu du `try` sert à contenir le code qui risque de générer une exception.\n",
    "\n",
    "La déclaration du `except` va préciser l'exception que l'on désire capturer afin d'avoir son instance de disponible dans une variable : ici, on l'a nommée tout simplement `err`. Le contenu du `except` s'exécutera si l'exception qui se produit est bien celle qui est attendue. On pourra donc cumuler plusieurs `except` pour autant d'exceptions différentes que l'on voudra capturer.\n",
    "\n",
    "Enfin, le contenu du `finally` s'exécutera systématiquement, qu'il y ait eu une exception ou non, et ce surtout juste avant un arrêt soudain du programme. Cela permet de réaliser des opérations critiques (bien fermer un flux ou un fichier) en cas d'erreur ou non.\n",
    "\n",
    "Dans le cas où l'on ne sache pas spécialement à quelle exception s'attendre, on peut prendre avantage du fait que toutes les exceptions en Python soient des classes qui héritent de la **classe** `Exception` afin de toutes les capturer sans aucune distinction."
   ]
  },
  {
   "cell_type": "code",
   "execution_count": 6,
   "metadata": {},
   "outputs": [
    {
     "name": "stdout",
     "output_type": "stream",
     "text": [
      "Met moi un int bon sang ! (Erreur : list indices must be integers or slices, not str)\n",
      "Aie, ça marche pas, tiens voilà l'erreur débrouille toi avec ça : list index out of range\n"
     ]
    },
    {
     "data": {
      "text/plain": [
       "'Poire'"
      ]
     },
     "execution_count": 6,
     "metadata": {},
     "output_type": "execute_result"
    }
   ],
   "source": [
    "fruits = [\"Pomme\", \"Poire\", \"Banane\"]\n",
    "\n",
    "def recupere_fruit(num):\n",
    "    try:\n",
    "        return fruits[num]\n",
    "    except TypeError as err:\n",
    "        print(f\"Met moi un int bon sang ! (Erreur : {err})\")\n",
    "    except Exception as err:\n",
    "        print(f\"Aie, ça marche pas, tiens voilà l'erreur débrouille toi avec ça : {err}\")\n",
    "\n",
    "recupere_fruit(\"a\")\n",
    "recupere_fruit(36)\n",
    "recupere_fruit(1)"
   ]
  },
  {
   "cell_type": "markdown",
   "metadata": {},
   "source": [
    "---\n",
    "## 🔨 Fonctions built-in - open()\n",
    "\n",
    "Une des nombreuses fonctions de base de Python permet simplement d'ouvrir un fichier afin de le lire ou d'y écrire quelque chose. Il est possible de lire des fichiers binaires (image, son, vidéo...), mais la fonction ouvre par défaut les fichiers en \"mode textuel\", ce qui nous suffit dans la plupart des cas.\n",
    "\n",
    "Le premier argument de la fonction `open()` représente le chemin du fichier auquel on veut accéder, et le deuxième argument est le mode d'ouverture du fichier : `r` pour le lire, `a` pour y écrire quelque chose en partant de la fin, `w` pour écrire dans le fichier en écrasant ce qu'il s'y trouvait auparavant... Regardez la [documentation officielle](https://docs.python.org/3.9/library/functions.html#open) pour l'intégralité des modes disponibles.\n",
    "\n",
    "Il est toujours bon de préciser également l'encodage du fichier que l'on veut ouvrir. Bien que ça devrait être UTF-8 dans la majorité des cas, vous pourriez être amené à travailler avec d'autres encodages.\n",
    "\n",
    "Une fois le fichier **ouvert**, on va **lire** son contenu puis finir par le **fermer**. Pour être certain que l'accès au fichier soit bien fermé même en cas d'**erreur** dans notre code, on lit notre fichier au sein d'un bloc `try` et on le ferme au sein du bloc `finally`."
   ]
  },
  {
   "cell_type": "code",
   "execution_count": 8,
   "metadata": {},
   "outputs": [
    {
     "name": "stdout",
     "output_type": "stream",
     "text": [
      "Hello from a file !\n",
      "test... test... \n"
     ]
    }
   ],
   "source": [
    "fichier = open('assets/testfile.txt', 'r', encoding=\"utf-8\")\n",
    "try:\n",
    "    contenu = fichier.read()\n",
    "    print(contenu)\n",
    "finally:\n",
    "    fichier.close()"
   ]
  },
  {
   "cell_type": "markdown",
   "metadata": {},
   "source": [
    "---\n",
    "## 🖊️ Le bloc with\n",
    "\n",
    "Pour faciliter la **fermeture** correcte de la lecture d'un fichier (ou d'autre chose), Python propose un bloc dénommé `with`. Lorsque l'on s'en sert, on précise la fonction qui va **ouvrir** quelque chose puis la **variable** sous laquelle on veut s'en servir, et lorsque le code au sein du bloc `with` aura été entièrement exécuté, ce quelque chose sera correctement **fermé**.\n",
    "\n",
    "Profitons-en pour utiliser le mode `a` (append) lors de l'ouverture d'un fichier, afin de pouvoir écrire quelque chose à la toute fin du fichier. D'ailleurs, si le fichier visé n'existe pas, il sera automatiquement créé. Exécutez plusieurs fois le bloc de code ci-dessous pour observer son comportement !"
   ]
  },
  {
   "cell_type": "code",
   "execution_count": 9,
   "metadata": {},
   "outputs": [
    {
     "name": "stdout",
     "output_type": "stream",
     "text": [
      "Hello from a file !\n",
      "test... test... test... \n"
     ]
    }
   ],
   "source": [
    "# Écriture de quelque chose à la toute fin d'un fichier\n",
    "with open('assets/testfile.txt', 'a', encoding=\"utf-8\") as f:\n",
    "    f.write(\"test... \")\n",
    "\n",
    "# Lecture d'un fichier\n",
    "with open('assets/testfile.txt', 'r', encoding=\"utf-8\") as f:\n",
    "    print(f.read())"
   ]
  },
  {
   "cell_type": "markdown",
   "metadata": {},
   "source": [
    "---\n",
    "## 🖊️ L'import de modules\n",
    "\n",
    "En Python, comme dans d'autres langages, on veut toujours avoir le code le plus **modulaire** possible. Pour cela, il faut par exemple répartir notre code à travers plusieurs fichiers, et ces derniers sont souvent répartis à travers plusieurs dossiers et sous-dossiers pour bien les ranger.\n",
    "\n",
    "Lorsque notre code est réparti à travers des fichiers, il faut donc **importer** ce dont on a besoin. Le langage propose le mot-clé `import` afin d'importer ce qu'on appelle des **modules**, c'est à dire tout simplement des fichiers écrits en Python.\n",
    "\n",
    "【⚠️️Avertissement】Si vous modifiez le contenu d'un module, il faudra fermer et rouvrir ce notebook Jupyter pour que l'import prenne en compte les modifications effectuée. C'est une limitation liée uniquement aux notebooks Jupyter.\n",
    "\n",
    "### Importer un module\n",
    "\n",
    "En soi, tout fichier Python en `.py` peut être importé comme \"module\". On considère aussi comme module les **bibliothèques standard** de Python, ainsi que toutes les **bibliothèques tierces** que l'on installera.\n",
    "\n",
    "Lorsque l'on va utiliser `import [nom du module]`, Python va chercher un module correspondant à ce nom en faisant cet ordre précis :\n",
    "\n",
    "* Recherche parmi les modules de la bibliothèque standard Python\n",
    "* Recherche parmi les modules de bibliothèques tierces\n",
    "* Recherche parmi les modules situés dans le même répertoire que le fichier Python en cours (ou du répertoire duquel est lancé un REPL Python)\n",
    "\n",
    "C'est pour ça qu'un fichier Python de votre projet, qui sera donc un module, ne doit idéalement pas avoir strictement le même nom qu'une bibliothèque standard ou tierce, sinon leur import sera extrêmement difficile et cela portera à confusion. Par exemple, nommer un fichier de votre projet `random.py` pourrait empêcher d'importer la bibliothèque standard **random**.\n",
    "\n",
    "Commençons par importer le fichier `modulefichier.py` présent dans le répertoire de ces cours, et qui sera traité comme étant le module `modulefichier`. Par convention, on écrit toujours les imports dans les premières lignes de notre code."
   ]
  },
  {
   "cell_type": "code",
   "execution_count": 1,
   "metadata": {},
   "outputs": [
    {
     "name": "stdout",
     "output_type": "stream",
     "text": [
      "localhost:8080\n"
     ]
    }
   ],
   "source": [
    "import modulefichier\n",
    "\n",
    "print(modulefichier.SITE_URL)"
   ]
  },
  {
   "cell_type": "markdown",
   "metadata": {},
   "source": [
    "Quand on importe l'intégralité d'un module, `modulefichier` devient une variable qui représente le **scope global** du module importé. Pour accéder à la variable `SITE_URL` déclarée dans le fichier `modulefichier.py`, on peut donc écrire `modulefichier.SITE_URL`.\n",
    "\n",
    "Si l'on souhaite mélanger le scope global du module importé **dans** le scope global de notre code actuel, on peut alors utiliser l'**import étoile** sous la forme `from [module] import *` mais une chose à faire de préférence si vous êtes certain que rien ne viendra écraser des variables de votre code. Utilisez donc cette façon d'importer quelque chose avec modération."
   ]
  },
  {
   "cell_type": "code",
   "execution_count": null,
   "metadata": {},
   "outputs": [
    {
     "name": "stdout",
     "output_type": "stream",
     "text": [
      "localhost:8080\n"
     ]
    }
   ],
   "source": [
    "from modulefichier import *\n",
    "\n",
    "print(SITE_URL)"
   ]
  },
  {
   "cell_type": "markdown",
   "metadata": {},
   "source": [
    "Si l'on connaît à l'avance ce que l'on souhaite importer d'un module, on peut utiliser l'écriture `from [module] import [variable]` : à la place de l'étoile `*`, on précise les variables à importer du module.\n",
    "\n",
    "Cela permet donc d'importer uniquement ce que l'on veut, et d'être certain de ne pas \"polluer\" le scope global de notre code en important trop de choses d'un coup."
   ]
  },
  {
   "cell_type": "code",
   "execution_count": null,
   "metadata": {},
   "outputs": [
    {
     "name": "stdout",
     "output_type": "stream",
     "text": [
      "localhost:8080\n",
      "Info : Yo\n"
     ]
    }
   ],
   "source": [
    "from modulefichier import SITE_URL, informer\n",
    "\n",
    "print(SITE_URL)\n",
    "informer(\"Yo\")"
   ]
  },
  {
   "cell_type": "markdown",
   "metadata": {},
   "source": [
    "### Créer et importer un paquet\n",
    "\n",
    "Une autre façon de modulariser le code est simplement d'utiliser des dossiers pour y ranger différents fichiers. Dans ce cas là, un dossier s'appellera un **paquet** (package), qui contiendra plusieurs fichiers `.py` (modules) ou bien à son tour plusieurs dossiers (paquets).\n",
    "\n",
    "Pour informer Python du fait qu'un dossier doive se comporter comme un paquet que l'on peut importer, il faudra y créer en son sein un fichier vide nommé `__init__.py`\n",
    "\n",
    "\n",
    "<details>\n",
    "  <summary>【💡 Spoiler】</summary>\n",
    "  Python 3.3 et versions supérieures supporte l'absence du fichier __init__.py mais uniquement lorsque l'on veut faire des <b>paquets de namespace</b>. Pour réellement créer un <b>paquet standard</b> et éviter un comportement inattendu, l'écriture de ce fichier reste nécessaire. Plus de détails dans cette <a href=\"https://stackoverflow.com/a/48804718\">réponse StackOverflow</a>.\n",
    "</details>\n",
    "\n",
    "\n",
    "\n",
    "N'étant qu'un dossier, importer juste un paquet en soi ne sert évidemment à rien : on va surtout vouloir importer les modules qui sont à l'intérieur. Ci-dessous, on peut importer le fichier `utils.py` du dossier `testpkg` de deux façons équivalentes, mais on utilise le plus souvent la première façon."
   ]
  },
  {
   "cell_type": "code",
   "execution_count": null,
   "metadata": {},
   "outputs": [
    {
     "name": "stdout",
     "output_type": "stream",
     "text": [
      "2021\n"
     ]
    }
   ],
   "source": [
    "from testpkg import utils\n",
    "\n",
    "# Ou alors :\n",
    "#import testpkg.utils\n",
    "\n",
    "print(utils.COMPANY_CREATION)"
   ]
  },
  {
   "cell_type": "markdown",
   "metadata": {},
   "source": [
    "On peut toujours décider d'en importer toutes les variables à la fois, ou d'importer seulement ce que l'on désire, comme avec l'import classique d'un module."
   ]
  },
  {
   "cell_type": "code",
   "execution_count": null,
   "metadata": {},
   "outputs": [
    {
     "name": "stdout",
     "output_type": "stream",
     "text": [
      "2021\n"
     ]
    }
   ],
   "source": [
    "from testpkg.utils import COMPANY_CREATION\n",
    "\n",
    "print(COMPANY_CREATION)"
   ]
  },
  {
   "cell_type": "markdown",
   "metadata": {},
   "source": [
    "D'ailleurs, dans le cas où vous ayez plusieurs lignes d'import au début de votre fichier Python, le [style guide PEP8](https://pybit.es/pep8.html) recommande de trier les lignes dans cet ordre précis :\n",
    "\n",
    "* Les imports de modules de la bibliothèque standard Python\n",
    "* Les imports de modules de bibliothèques tierces\n",
    "* Les imports de modules de votre projet"
   ]
  },
  {
   "cell_type": "markdown",
   "metadata": {},
   "source": [
    "---\n",
    "## 🧰 Bibliothèque standard - random\n",
    "\n",
    "Maintenant que l'on sait bien importer des modules, on peut enfin commencer à se servir de la **bibliothèque standard** (standard library) incluse à Python qui propose énormément de choses très diverses : la [documentation officielle](https://docs.python.org/3.12/library/) en fait une liste exhaustive, dans la liste à points à partir de \"Text Processing Services\".\n",
    "\n",
    "Histoire d'avoir un peu d'aléatoire dans les exercices à venir, on peut utiliser la bibliothèque standard [random](https://docs.python.org/3.9/library/random.html). Attention cependant, cette Bibliothèque très simplifiée ne nous donnera que du [\"pseudo-aléatoire\"](https://fr.wikipedia.org/wiki/G%C3%A9n%C3%A9rateur_de_nombres_pseudo-al%C3%A9atoires), il ne faut donc pas s'en servir pour des applications critiques (chiffrement de données, etc).\n",
    "\n",
    "Voici à mon avis les fonctions les plus utiles de cette bibliothèque :\n",
    "\n",
    "* `.randint(debut, fin)` : renvoie un nombre entier aléatoire entre `[debut]` et `[fin]` inclus\n",
    "* `.choice(seq)` : renvoie un élément au hasard parmi la séquence fournie (liste, tuple...)\n",
    "* `.shuffle(seq)` : range au hasard les éléments de la séquence fournie\n"
   ]
  },
  {
   "cell_type": "code",
   "execution_count": 10,
   "metadata": {},
   "outputs": [
    {
     "name": "stdout",
     "output_type": "stream",
     "text": [
      "2\n",
      "gâteau\n",
      "['dormir', 'boire', 'travailler', 'manger']\n"
     ]
    }
   ],
   "source": [
    "import random\n",
    "\n",
    "# Nombre entier aléatoire entre 0 et 10\n",
    "nb = random.randint(0, 10)\n",
    "print(nb)\n",
    "\n",
    "# Choix aléatoire parmi la liste des chaînes de caractères\n",
    "dessert = random.choice([\"flan\", \"éclair\", \"gâteau\", \"glace\"])\n",
    "print(dessert)\n",
    "\n",
    "actions = [\"manger\", \"boire\", \"dormir\", \"travailler\"]\n",
    "# La fonction shuffle ne renvoie rien car elle modifie directement la séquence qui est passée\n",
    "random.shuffle(actions)\n",
    "print(actions)"
   ]
  },
  {
   "cell_type": "markdown",
   "metadata": {},
   "source": [
    "---\n",
    "## 🧰 Bibliothèque standard - argparse\n",
    "\n",
    "Pour écrire des scripts en Python dignes de ce nom, l'idéal serait de pouvoir les appeler dans un terminal en leur passant des arguments. Par exemple, pour un script modifiant des images, il faudait pouvoir l'exécuter en lui précisant l'image que l'on veut modifier, le nouveau format voulu, la taille, etc.\n",
    "\n",
    "Une bibliothèque standard incluse à Python, [**argparse**](https://docs.python.org/3.9/library/argparse.html), s'occupe à votre place de gérer le fait de recevoir des arguments, et permet même d'afficher dans le terminal une aide récapitulant tous les arguments acceptés par votre script.\n",
    "\n",
    "Pour faire simple : on crée une instance de l'`ArgumentParser` auquel on va ajouter tous les arguments que l'on souhaite recevoir (et s'ils sont optionnels, de quel type de valeur, etc), et on lui demande au moment nécessaire de traiter (parser) les arguments reçus par le script pour pouvoir s'en servir.\n",
    "\n",
    "Étant donné que son usage est prévue pour les scripts, on ne peut pas expérimenter avec dans ce notebook. Ouvrez un terminal, naviguez jusque dans le dossier `assets` de cours, et exécutez le fichier `argparse_example.py` de plusieurs façons :\n",
    "\n",
    "* `python argparse_example.py --help`\n",
    "* `python argparse_example.py testfile.txt`"
   ]
  },
  {
   "cell_type": "markdown",
   "metadata": {},
   "source": [
    "---\n",
    "\n",
    "# Exercice\n",
    "\n",
    "À la suite de ce cours, vous pourrez réaliser l'exercice situé dans le dossier `journal`."
   ]
  }
 ],
 "metadata": {
  "kernelspec": {
   "display_name": "Python 3",
   "language": "python",
   "name": "python3"
  },
  "language_info": {
   "codemirror_mode": {
    "name": "ipython",
    "version": 3
   },
   "file_extension": ".py",
   "mimetype": "text/x-python",
   "name": "python",
   "nbconvert_exporter": "python",
   "pygments_lexer": "ipython3",
   "version": "3.11.3"
  },
  "metadata": {
   "interpreter": {
    "hash": "d94eb1066f04d8685077601812ddd3c592b7f56086c802177159e4b57cd392de"
   }
  }
 },
 "nbformat": 4,
 "nbformat_minor": 4
}
